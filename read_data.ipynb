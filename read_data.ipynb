{
 "cells": [
  {
   "cell_type": "code",
   "execution_count": 1,
   "id": "a45a8d7d-2c33-4c44-b75a-ef77055eba2e",
   "metadata": {},
   "outputs": [],
   "source": [
    "# --- Автоперезагрузка модулей ---\n",
    "%load_ext autoreload\n",
    "%autoreload 2"
   ]
  },
  {
   "cell_type": "code",
   "execution_count": 3,
   "id": "ac37882c-bd49-4ded-bcf8-c8a5f9a63a01",
   "metadata": {},
   "outputs": [],
   "source": [
    "from pathlib import Path\n",
    "import json\n",
    "import pandas as pd\n",
    "#pd.set_option('display.float_format', '{:.1f}'.format) ## 1 знак после запятой"
   ]
  },
  {
   "cell_type": "code",
   "execution_count": 5,
   "id": "577fde96-3e89-44b4-bcca-3a43c02ec1f4",
   "metadata": {},
   "outputs": [],
   "source": [
    "from raw_data import RawData\n",
    "from filtered_data import FilteredData\n",
    "from raw_data_filter import RawDataFilter"
   ]
  },
  {
   "cell_type": "code",
   "execution_count": 7,
   "id": "d3c25ad4-dd04-4e2d-9584-d5d940372f8a",
   "metadata": {},
   "outputs": [],
   "source": [
    "# 1. Рабочая директория\n",
    "work_dir = Path.cwd()\n",
    "input_dir = work_dir / 'input'  # Теперь все данные ищем в папке input\n",
    "\n",
    "# 2. Пути к файлам\n",
    "gz_path = input_dir / '704.gz'\n",
    "\n",
    "# 3. Создание объекта\n",
    "if 'fRawData' in locals():\n",
    "    del fRawData\n",
    "fRawData = RawData(str(gz_path), user_id=704)\n",
    "\n",
    "# 4. Получение сырых данных\n",
    "raw_data = fRawData.get_raw_data()\n",
    "#print(f\"\\n=== Сырые данные (первые 5 строк) данных {'704.gz'}===\")\n",
    "#print(raw_data.head(5))"
   ]
  },
  {
   "cell_type": "code",
   "execution_count": 9,
   "id": "2c7ccd95-a1e9-4c1f-a8e3-8ef63f9d1213",
   "metadata": {},
   "outputs": [],
   "source": [
    "def load_time_ranges(file_path, user_id):\n",
    "    with open(file_path, 'r', encoding='utf-8') as f:\n",
    "        all_timings = json.load(f)\n",
    "\n",
    "    if str(user_id) not in all_timings:\n",
    "        raise ValueError(f\"Нет данных для пользователя {user_id} в файле {file_path}\")\n",
    "\n",
    "    return {item['shelf']: item['time_range'] for item in all_timings[str(user_id)]}"
   ]
  },
  {
   "cell_type": "code",
   "execution_count": 11,
   "id": "68efc626-4c11-4b46-b0c4-036432ae0369",
   "metadata": {},
   "outputs": [],
   "source": [
    "# Создаём FilteredData через процессор\n",
    "fFilterData = RawDataFilter.create_filtered_data(fRawData)\n",
    "\n",
    "# Фильтрация\n",
    "RawDataFilter.filter_only_gaze(fFilterData)\n",
    "RawDataFilter.filter_invalid_pupils(fFilterData, min_size=1., max_size=10.0)\n",
    "RawDataFilter.filter_missing_data(fFilterData)\n",
    "RawDataFilter.filter_by_timestamp(fFilterData,'01/01/2022') # filter by min dd-mm-yyyy\n",
    "RawDataFilter.filter_unrealistic_event_spacing(fFilterData, 0.005) # filter by event rating \n",
    "RawDataFilter.filter_constant_pupil(fFilterData, 100, 0.001) # filter by constant pupil size\n",
    "RawDataFilter.filter_async_pupil_size(fFilterData, 0.02) # filter by constant pupil size"
   ]
  },
  {
   "cell_type": "code",
   "execution_count": 13,
   "id": "8ad91604-d351-46f6-85ed-1c8eaa240baf",
   "metadata": {},
   "outputs": [
    {
     "name": "stdout",
     "output_type": "stream",
     "text": [
      "       timestamp  type  eyeleft.pupildiameter  eyeright.pupildiameter  \\\n",
      "0  1720505684.56  gaze                   1.90                    1.89   \n",
      "1  1720505684.58  gaze                   1.93                    1.90   \n",
      "2  1720505684.60  gaze                   1.92                    1.89   \n",
      "3  1720505684.62  gaze                   1.91                    1.89   \n",
      "4  1720505684.64  gaze                   1.91                    1.88   \n",
      "5  1720505684.66  gaze                   2.00                    1.88   \n",
      "6  1720505684.68  gaze                   1.97                    1.88   \n",
      "7  1720505684.70  gaze                   1.95                    1.88   \n",
      "8  1720505684.72  gaze                   1.92                    1.89   \n",
      "9  1720505684.74  gaze                   1.88                    1.86   \n",
      "10 1720505684.76  gaze                   1.90                    1.86   \n",
      "11 1720505684.78  gaze                   1.91                    1.86   \n",
      "12 1720505684.80  gaze                   1.91                    1.86   \n",
      "13 1720505684.82  gaze                   1.90                    1.86   \n",
      "14 1720505684.84  gaze                   1.88                    1.86   \n",
      "15 1720505684.86  gaze                   1.88                    1.86   \n",
      "16 1720505684.88  gaze                   1.87                    1.86   \n",
      "17 1720505684.90  gaze                   1.87                    1.87   \n",
      "18 1720505684.92  gaze                   1.87                    1.86   \n",
      "19 1720505684.94  gaze                   1.86                    1.86   \n",
      "\n",
      "    is_valid  relative_timestamp   timestamp_readable  \n",
      "0       True                0.00  2024-07-09 06:14:44  \n",
      "1       True                0.02  2024-07-09 06:14:44  \n",
      "2       True                0.04  2024-07-09 06:14:44  \n",
      "3       True                0.06  2024-07-09 06:14:44  \n",
      "4       True                0.08  2024-07-09 06:14:44  \n",
      "5       True                0.10  2024-07-09 06:14:44  \n",
      "6       True                0.12  2024-07-09 06:14:44  \n",
      "7       True                0.14  2024-07-09 06:14:44  \n",
      "8       True                0.16  2024-07-09 06:14:44  \n",
      "9       True                0.18  2024-07-09 06:14:44  \n",
      "10      True                0.20  2024-07-09 06:14:44  \n",
      "11      True                0.22  2024-07-09 06:14:44  \n",
      "12      True                0.24  2024-07-09 06:14:44  \n",
      "13      True                0.26  2024-07-09 06:14:44  \n",
      "14      True                0.28  2024-07-09 06:14:44  \n",
      "15      True                0.30  2024-07-09 06:14:44  \n",
      "16      True                0.32  2024-07-09 06:14:44  \n",
      "17      True                0.34  2024-07-09 06:14:44  \n",
      "18      True                0.36  2024-07-09 06:14:44  \n",
      "19      True                0.38  2024-07-09 06:14:44  \n"
     ]
    }
   ],
   "source": [
    "# Вывод на экран\n",
    "df = fFilterData.get_data()\n",
    "#filtered_df = df[df['relative_timestamp'] > 558.8]\n",
    "pd.set_option('display.float_format', '{:.2f}'.format) ## 2 знака после запятой\n",
    "print(df.head(20))"
   ]
  },
  {
   "cell_type": "code",
   "execution_count": null,
   "id": "b11fb4fd-8851-4251-bcde-f86138097c93",
   "metadata": {},
   "outputs": [],
   "source": [
    "# Загружаем тайминги\n",
    "#timings_path = input_dir / 'timings_by_shelf.json'\n",
    "#time_ranges = load_time_ranges(timings_path, user_id=704)\n",
    "\n",
    "#for shelf, (start_time, end_time) in time_ranges.items():\n",
    "#    print(f\"Shelf: {shelf}, Start: {start_time}, End: {end_time}\")"
   ]
  },
  {
   "cell_type": "code",
   "execution_count": null,
   "id": "8f08be02-0b12-4f4c-8e29-106b80243d6c",
   "metadata": {},
   "outputs": [],
   "source": []
  }
 ],
 "metadata": {
  "kernelspec": {
   "display_name": "Python [conda env:base] *",
   "language": "python",
   "name": "conda-base-py"
  },
  "language_info": {
   "codemirror_mode": {
    "name": "ipython",
    "version": 3
   },
   "file_extension": ".py",
   "mimetype": "text/x-python",
   "name": "python",
   "nbconvert_exporter": "python",
   "pygments_lexer": "ipython3",
   "version": "3.12.7"
  }
 },
 "nbformat": 4,
 "nbformat_minor": 5
}
